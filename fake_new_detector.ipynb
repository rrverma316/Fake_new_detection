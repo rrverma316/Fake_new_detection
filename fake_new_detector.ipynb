{
 "cells": [
  {
   "cell_type": "markdown",
   "id": "bbf2cd34",
   "metadata": {},
   "source": [
    "# Fake News Detection\n",
    "\n",
    "### Alert! Did you know that your morning start with fake news. Yes, as per my survey I found that more then 50% of fake new viral in every year. \n",
    "\n",
    "# What is fake news?\n",
    "## As per google defination -\"false information that is broadcast or published as news for fraudulent or politically motivated purposes\"\n",
    "### Fake news's simple meaning is to incorporate information that leads people to the wrong path. Nowadays fake news spreading like water and people share this information without verifying it. This is often done to further or impose certain ideas and is often achieved with political agendas.\n",
    "\n",
    "### For media outlets, the ability to attract viewers to their websites is necessary to generate online advertising revenue. So it is necessary to detect fake news.\n"
   ]
  },
  {
   "cell_type": "markdown",
   "id": "0aacfed7",
   "metadata": {},
   "source": [
    "# Workflow~"
   ]
  },
  {
   "cell_type": "markdown",
   "id": "4a01adec",
   "metadata": {},
   "source": [
    "# 1 Insert DataSet"
   ]
  },
  {
   "cell_type": "code",
   "execution_count": 2,
   "id": "f3e14b08",
   "metadata": {},
   "outputs": [],
   "source": [
    "import pandas as pd\n",
    "import matplotlib.pyplot as mtp\n",
    "import seaborn as sns\n",
    "import numpy as np\n",
    "\n",
    "%matplotlib inline\n"
   ]
  },
  {
   "cell_type": "markdown",
   "id": "e77498e3",
   "metadata": {},
   "source": [
    "I found that datasets for fake news detection on Kaggle. There are two datasets one for fake news and one for true news. In true news, there is 426 news, and in fake news, there is 378 news. Both datasets have a label column in which 1 for fake news and 0 for true news. We are combined both datasets using pandas built-in function."
   ]
  },
  {
   "cell_type": "code",
   "execution_count": 3,
   "id": "ff046cb7",
   "metadata": {},
   "outputs": [],
   "source": [
    "df=pd.read_csv('FA-KES-Dataset.csv',encoding='unicode_escape' )"
   ]
  },
  {
   "cell_type": "code",
   "execution_count": 4,
   "id": "594a439c",
   "metadata": {},
   "outputs": [
    {
     "data": {
      "text/html": [
       "<div>\n",
       "<style scoped>\n",
       "    .dataframe tbody tr th:only-of-type {\n",
       "        vertical-align: middle;\n",
       "    }\n",
       "\n",
       "    .dataframe tbody tr th {\n",
       "        vertical-align: top;\n",
       "    }\n",
       "\n",
       "    .dataframe thead th {\n",
       "        text-align: right;\n",
       "    }\n",
       "</style>\n",
       "<table border=\"1\" class=\"dataframe\">\n",
       "  <thead>\n",
       "    <tr style=\"text-align: right;\">\n",
       "      <th></th>\n",
       "      <th>unit_id</th>\n",
       "      <th>article_title</th>\n",
       "      <th>article_content</th>\n",
       "      <th>source</th>\n",
       "      <th>date</th>\n",
       "      <th>location</th>\n",
       "      <th>labels</th>\n",
       "    </tr>\n",
       "  </thead>\n",
       "  <tbody>\n",
       "    <tr>\n",
       "      <th>0</th>\n",
       "      <td>1914947530</td>\n",
       "      <td>Syria attack symptoms consistent with nerve ag...</td>\n",
       "      <td>Wed 05 Apr 2017 Syria attack symptoms consiste...</td>\n",
       "      <td>nna</td>\n",
       "      <td>4/5/2017</td>\n",
       "      <td>idlib</td>\n",
       "      <td>0</td>\n",
       "    </tr>\n",
       "    <tr>\n",
       "      <th>1</th>\n",
       "      <td>1914947532</td>\n",
       "      <td>Homs governor says U.S. attack caused deaths b...</td>\n",
       "      <td>Fri 07 Apr 2017 at 0914 Homs governor says U.S...</td>\n",
       "      <td>nna</td>\n",
       "      <td>4/7/2017</td>\n",
       "      <td>homs</td>\n",
       "      <td>0</td>\n",
       "    </tr>\n",
       "    <tr>\n",
       "      <th>2</th>\n",
       "      <td>1914947533</td>\n",
       "      <td>Death toll from Aleppo bomb attack at least 112</td>\n",
       "      <td>Sun 16 Apr 2017 Death toll from Aleppo bomb at...</td>\n",
       "      <td>nna</td>\n",
       "      <td>4/16/2017</td>\n",
       "      <td>aleppo</td>\n",
       "      <td>0</td>\n",
       "    </tr>\n",
       "    <tr>\n",
       "      <th>3</th>\n",
       "      <td>1914947534</td>\n",
       "      <td>Aleppo bomb blast kills six Syrian state TV</td>\n",
       "      <td>Wed 19 Apr 2017 Aleppo bomb blast kills six Sy...</td>\n",
       "      <td>nna</td>\n",
       "      <td>4/19/2017</td>\n",
       "      <td>aleppo</td>\n",
       "      <td>0</td>\n",
       "    </tr>\n",
       "    <tr>\n",
       "      <th>4</th>\n",
       "      <td>1914947535</td>\n",
       "      <td>29 Syria Rebels Dead in Fighting for Key Alepp...</td>\n",
       "      <td>Sun 10 Jul 2016 29 Syria Rebels Dead in Fighti...</td>\n",
       "      <td>nna</td>\n",
       "      <td>7/10/2016</td>\n",
       "      <td>aleppo</td>\n",
       "      <td>0</td>\n",
       "    </tr>\n",
       "  </tbody>\n",
       "</table>\n",
       "</div>"
      ],
      "text/plain": [
       "      unit_id                                      article_title  \\\n",
       "0  1914947530  Syria attack symptoms consistent with nerve ag...   \n",
       "1  1914947532  Homs governor says U.S. attack caused deaths b...   \n",
       "2  1914947533    Death toll from Aleppo bomb attack at least 112   \n",
       "3  1914947534        Aleppo bomb blast kills six Syrian state TV   \n",
       "4  1914947535  29 Syria Rebels Dead in Fighting for Key Alepp...   \n",
       "\n",
       "                                     article_content source       date  \\\n",
       "0  Wed 05 Apr 2017 Syria attack symptoms consiste...    nna   4/5/2017   \n",
       "1  Fri 07 Apr 2017 at 0914 Homs governor says U.S...    nna   4/7/2017   \n",
       "2  Sun 16 Apr 2017 Death toll from Aleppo bomb at...    nna  4/16/2017   \n",
       "3  Wed 19 Apr 2017 Aleppo bomb blast kills six Sy...    nna  4/19/2017   \n",
       "4  Sun 10 Jul 2016 29 Syria Rebels Dead in Fighti...    nna  7/10/2016   \n",
       "\n",
       "  location  labels  \n",
       "0    idlib       0  \n",
       "1     homs       0  \n",
       "2   aleppo       0  \n",
       "3   aleppo       0  \n",
       "4   aleppo       0  "
      ]
     },
     "execution_count": 4,
     "metadata": {},
     "output_type": "execute_result"
    }
   ],
   "source": [
    "df.head()"
   ]
  },
  {
   "cell_type": "code",
   "execution_count": 5,
   "id": "a924d33c",
   "metadata": {},
   "outputs": [
    {
     "data": {
      "text/plain": [
       "(804, 7)"
      ]
     },
     "execution_count": 5,
     "metadata": {},
     "output_type": "execute_result"
    }
   ],
   "source": [
    "df.shape"
   ]
  },
  {
   "cell_type": "code",
   "execution_count": 6,
   "id": "fe784312",
   "metadata": {},
   "outputs": [
    {
     "data": {
      "text/html": [
       "<div>\n",
       "<style scoped>\n",
       "    .dataframe tbody tr th:only-of-type {\n",
       "        vertical-align: middle;\n",
       "    }\n",
       "\n",
       "    .dataframe tbody tr th {\n",
       "        vertical-align: top;\n",
       "    }\n",
       "\n",
       "    .dataframe thead th {\n",
       "        text-align: right;\n",
       "    }\n",
       "</style>\n",
       "<table border=\"1\" class=\"dataframe\">\n",
       "  <thead>\n",
       "    <tr style=\"text-align: right;\">\n",
       "      <th></th>\n",
       "      <th>unit_id</th>\n",
       "      <th>article_title</th>\n",
       "      <th>article_content</th>\n",
       "      <th>source</th>\n",
       "      <th>date</th>\n",
       "      <th>location</th>\n",
       "      <th>labels</th>\n",
       "    </tr>\n",
       "  </thead>\n",
       "  <tbody>\n",
       "    <tr>\n",
       "      <th>0</th>\n",
       "      <td>1914947530</td>\n",
       "      <td>Syria attack symptoms consistent with nerve ag...</td>\n",
       "      <td>Wed 05 Apr 2017 Syria attack symptoms consiste...</td>\n",
       "      <td>nna</td>\n",
       "      <td>4/5/2017</td>\n",
       "      <td>idlib</td>\n",
       "      <td>0</td>\n",
       "    </tr>\n",
       "    <tr>\n",
       "      <th>1</th>\n",
       "      <td>1914947532</td>\n",
       "      <td>Homs governor says U.S. attack caused deaths b...</td>\n",
       "      <td>Fri 07 Apr 2017 at 0914 Homs governor says U.S...</td>\n",
       "      <td>nna</td>\n",
       "      <td>4/7/2017</td>\n",
       "      <td>homs</td>\n",
       "      <td>0</td>\n",
       "    </tr>\n",
       "    <tr>\n",
       "      <th>2</th>\n",
       "      <td>1914947533</td>\n",
       "      <td>Death toll from Aleppo bomb attack at least 112</td>\n",
       "      <td>Sun 16 Apr 2017 Death toll from Aleppo bomb at...</td>\n",
       "      <td>nna</td>\n",
       "      <td>4/16/2017</td>\n",
       "      <td>aleppo</td>\n",
       "      <td>0</td>\n",
       "    </tr>\n",
       "    <tr>\n",
       "      <th>3</th>\n",
       "      <td>1914947534</td>\n",
       "      <td>Aleppo bomb blast kills six Syrian state TV</td>\n",
       "      <td>Wed 19 Apr 2017 Aleppo bomb blast kills six Sy...</td>\n",
       "      <td>nna</td>\n",
       "      <td>4/19/2017</td>\n",
       "      <td>aleppo</td>\n",
       "      <td>0</td>\n",
       "    </tr>\n",
       "    <tr>\n",
       "      <th>4</th>\n",
       "      <td>1914947535</td>\n",
       "      <td>29 Syria Rebels Dead in Fighting for Key Alepp...</td>\n",
       "      <td>Sun 10 Jul 2016 29 Syria Rebels Dead in Fighti...</td>\n",
       "      <td>nna</td>\n",
       "      <td>7/10/2016</td>\n",
       "      <td>aleppo</td>\n",
       "      <td>0</td>\n",
       "    </tr>\n",
       "    <tr>\n",
       "      <th>...</th>\n",
       "      <td>...</td>\n",
       "      <td>...</td>\n",
       "      <td>...</td>\n",
       "      <td>...</td>\n",
       "      <td>...</td>\n",
       "      <td>...</td>\n",
       "      <td>...</td>\n",
       "    </tr>\n",
       "    <tr>\n",
       "      <th>799</th>\n",
       "      <td>1965511221</td>\n",
       "      <td>Turkish Bombardment Kills 20 Civilians in Syria</td>\n",
       "      <td>28-08-2016 Turkish Bombardment Kills 20 Civili...</td>\n",
       "      <td>manar</td>\n",
       "      <td>8/28/2016</td>\n",
       "      <td>aleppo</td>\n",
       "      <td>1</td>\n",
       "    </tr>\n",
       "    <tr>\n",
       "      <th>800</th>\n",
       "      <td>1965511222</td>\n",
       "      <td>Martyrs as Terrorists Shell Aleppos Salah Eddin</td>\n",
       "      <td>17-08-2016 Martyrs as Terrorists Shell Aleppos...</td>\n",
       "      <td>manar</td>\n",
       "      <td>8/1/2016</td>\n",
       "      <td>aleppo</td>\n",
       "      <td>1</td>\n",
       "    </tr>\n",
       "    <tr>\n",
       "      <th>801</th>\n",
       "      <td>1965511224</td>\n",
       "      <td>Chemical Attack Kills Five Syrians in Aleppo SANA</td>\n",
       "      <td>03-08-2016 Chemical Attack Kills Five Syrians ...</td>\n",
       "      <td>manar</td>\n",
       "      <td>8/3/2016</td>\n",
       "      <td>aleppo</td>\n",
       "      <td>0</td>\n",
       "    </tr>\n",
       "    <tr>\n",
       "      <th>802</th>\n",
       "      <td>1965511226</td>\n",
       "      <td>5 Killed as Russian Military Chopper Shot down...</td>\n",
       "      <td>01-08-2016 5 Killed as Russian Military Choppe...</td>\n",
       "      <td>manar</td>\n",
       "      <td>8/1/2016</td>\n",
       "      <td>idlib</td>\n",
       "      <td>1</td>\n",
       "    </tr>\n",
       "    <tr>\n",
       "      <th>803</th>\n",
       "      <td>1965511231</td>\n",
       "      <td>Syrian Army Kills 48 ISIL Terrorists in Deir E...</td>\n",
       "      <td>April 6 2017 Syrian Army Kills 48 ISIL Terrori...</td>\n",
       "      <td>manar</td>\n",
       "      <td>4/4/2017</td>\n",
       "      <td>deir ezzor</td>\n",
       "      <td>1</td>\n",
       "    </tr>\n",
       "  </tbody>\n",
       "</table>\n",
       "<p>804 rows × 7 columns</p>\n",
       "</div>"
      ],
      "text/plain": [
       "        unit_id                                      article_title  \\\n",
       "0    1914947530  Syria attack symptoms consistent with nerve ag...   \n",
       "1    1914947532  Homs governor says U.S. attack caused deaths b...   \n",
       "2    1914947533    Death toll from Aleppo bomb attack at least 112   \n",
       "3    1914947534        Aleppo bomb blast kills six Syrian state TV   \n",
       "4    1914947535  29 Syria Rebels Dead in Fighting for Key Alepp...   \n",
       "..          ...                                                ...   \n",
       "799  1965511221    Turkish Bombardment Kills 20 Civilians in Syria   \n",
       "800  1965511222    Martyrs as Terrorists Shell Aleppos Salah Eddin   \n",
       "801  1965511224  Chemical Attack Kills Five Syrians in Aleppo SANA   \n",
       "802  1965511226  5 Killed as Russian Military Chopper Shot down...   \n",
       "803  1965511231  Syrian Army Kills 48 ISIL Terrorists in Deir E...   \n",
       "\n",
       "                                       article_content source       date  \\\n",
       "0    Wed 05 Apr 2017 Syria attack symptoms consiste...    nna   4/5/2017   \n",
       "1    Fri 07 Apr 2017 at 0914 Homs governor says U.S...    nna   4/7/2017   \n",
       "2    Sun 16 Apr 2017 Death toll from Aleppo bomb at...    nna  4/16/2017   \n",
       "3    Wed 19 Apr 2017 Aleppo bomb blast kills six Sy...    nna  4/19/2017   \n",
       "4    Sun 10 Jul 2016 29 Syria Rebels Dead in Fighti...    nna  7/10/2016   \n",
       "..                                                 ...    ...        ...   \n",
       "799  28-08-2016 Turkish Bombardment Kills 20 Civili...  manar  8/28/2016   \n",
       "800  17-08-2016 Martyrs as Terrorists Shell Aleppos...  manar   8/1/2016   \n",
       "801  03-08-2016 Chemical Attack Kills Five Syrians ...  manar   8/3/2016   \n",
       "802  01-08-2016 5 Killed as Russian Military Choppe...  manar   8/1/2016   \n",
       "803  April 6 2017 Syrian Army Kills 48 ISIL Terrori...  manar   4/4/2017   \n",
       "\n",
       "       location  labels  \n",
       "0         idlib       0  \n",
       "1          homs       0  \n",
       "2        aleppo       0  \n",
       "3        aleppo       0  \n",
       "4        aleppo       0  \n",
       "..          ...     ...  \n",
       "799      aleppo       1  \n",
       "800      aleppo       1  \n",
       "801      aleppo       0  \n",
       "802       idlib       1  \n",
       "803  deir ezzor       1  \n",
       "\n",
       "[804 rows x 7 columns]"
      ]
     },
     "execution_count": 6,
     "metadata": {},
     "output_type": "execute_result"
    }
   ],
   "source": [
    "df"
   ]
  },
  {
   "cell_type": "code",
   "execution_count": 7,
   "id": "da931ded",
   "metadata": {},
   "outputs": [
    {
     "data": {
      "text/plain": [
       "unit_id            0\n",
       "article_title      0\n",
       "article_content    0\n",
       "source             0\n",
       "date               0\n",
       "location           0\n",
       "labels             0\n",
       "dtype: int64"
      ]
     },
     "execution_count": 7,
     "metadata": {},
     "output_type": "execute_result"
    }
   ],
   "source": [
    "df.isnull().sum()"
   ]
  },
  {
   "cell_type": "code",
   "execution_count": 8,
   "id": "ec82960d",
   "metadata": {},
   "outputs": [
    {
     "data": {
      "text/plain": [
       "<AxesSubplot:>"
      ]
     },
     "execution_count": 8,
     "metadata": {},
     "output_type": "execute_result"
    },
    {
     "data": {
      "image/png": "[encoded data removed]",
      "text/plain": [
       "<Figure size 640x480 with 1 Axes>"
      ]
     },
     "metadata": {},
     "output_type": "display_data"
    }
   ],
   "source": [
    "sns.heatmap(df.isnull(),yticklabels=False,cbar=False)"
   ]
  },
  {
   "cell_type": "markdown",
   "id": "e50e91c5",
   "metadata": {},
   "source": [
    " # 2 Date Pre processing"
   ]
  },
  {
   "cell_type": "code",
   "execution_count": 9,
   "id": "f8e851e7",
   "metadata": {},
   "outputs": [
    {
     "data": {
      "text/html": [
       "<div>\n",
       "<style scoped>\n",
       "    .dataframe tbody tr th:only-of-type {\n",
       "        vertical-align: middle;\n",
       "    }\n",
       "\n",
       "    .dataframe tbody tr th {\n",
       "        vertical-align: top;\n",
       "    }\n",
       "\n",
       "    .dataframe thead th {\n",
       "        text-align: right;\n",
       "    }\n",
       "</style>\n",
       "<table border=\"1\" class=\"dataframe\">\n",
       "  <thead>\n",
       "    <tr style=\"text-align: right;\">\n",
       "      <th></th>\n",
       "      <th>unit_id</th>\n",
       "      <th>article_title</th>\n",
       "      <th>article_content</th>\n",
       "      <th>source</th>\n",
       "      <th>date</th>\n",
       "      <th>location</th>\n",
       "      <th>labels</th>\n",
       "      <th>year</th>\n",
       "    </tr>\n",
       "  </thead>\n",
       "  <tbody>\n",
       "    <tr>\n",
       "      <th>0</th>\n",
       "      <td>1914947530</td>\n",
       "      <td>Syria attack symptoms consistent with nerve ag...</td>\n",
       "      <td>Wed 05 Apr 2017 Syria attack symptoms consiste...</td>\n",
       "      <td>nna</td>\n",
       "      <td>4/5/2017</td>\n",
       "      <td>idlib</td>\n",
       "      <td>0</td>\n",
       "      <td>2017</td>\n",
       "    </tr>\n",
       "    <tr>\n",
       "      <th>1</th>\n",
       "      <td>1914947532</td>\n",
       "      <td>Homs governor says U.S. attack caused deaths b...</td>\n",
       "      <td>Fri 07 Apr 2017 at 0914 Homs governor says U.S...</td>\n",
       "      <td>nna</td>\n",
       "      <td>4/7/2017</td>\n",
       "      <td>homs</td>\n",
       "      <td>0</td>\n",
       "      <td>2017</td>\n",
       "    </tr>\n",
       "    <tr>\n",
       "      <th>2</th>\n",
       "      <td>1914947533</td>\n",
       "      <td>Death toll from Aleppo bomb attack at least 112</td>\n",
       "      <td>Sun 16 Apr 2017 Death toll from Aleppo bomb at...</td>\n",
       "      <td>nna</td>\n",
       "      <td>4/16/2017</td>\n",
       "      <td>aleppo</td>\n",
       "      <td>0</td>\n",
       "      <td>2017</td>\n",
       "    </tr>\n",
       "    <tr>\n",
       "      <th>3</th>\n",
       "      <td>1914947534</td>\n",
       "      <td>Aleppo bomb blast kills six Syrian state TV</td>\n",
       "      <td>Wed 19 Apr 2017 Aleppo bomb blast kills six Sy...</td>\n",
       "      <td>nna</td>\n",
       "      <td>4/19/2017</td>\n",
       "      <td>aleppo</td>\n",
       "      <td>0</td>\n",
       "      <td>2017</td>\n",
       "    </tr>\n",
       "    <tr>\n",
       "      <th>4</th>\n",
       "      <td>1914947535</td>\n",
       "      <td>29 Syria Rebels Dead in Fighting for Key Alepp...</td>\n",
       "      <td>Sun 10 Jul 2016 29 Syria Rebels Dead in Fighti...</td>\n",
       "      <td>nna</td>\n",
       "      <td>7/10/2016</td>\n",
       "      <td>aleppo</td>\n",
       "      <td>0</td>\n",
       "      <td>2016</td>\n",
       "    </tr>\n",
       "  </tbody>\n",
       "</table>\n",
       "</div>"
      ],
      "text/plain": [
       "      unit_id                                      article_title  \\\n",
       "0  1914947530  Syria attack symptoms consistent with nerve ag...   \n",
       "1  1914947532  Homs governor says U.S. attack caused deaths b...   \n",
       "2  1914947533    Death toll from Aleppo bomb attack at least 112   \n",
       "3  1914947534        Aleppo bomb blast kills six Syrian state TV   \n",
       "4  1914947535  29 Syria Rebels Dead in Fighting for Key Alepp...   \n",
       "\n",
       "                                     article_content source       date  \\\n",
       "0  Wed 05 Apr 2017 Syria attack symptoms consiste...    nna   4/5/2017   \n",
       "1  Fri 07 Apr 2017 at 0914 Homs governor says U.S...    nna   4/7/2017   \n",
       "2  Sun 16 Apr 2017 Death toll from Aleppo bomb at...    nna  4/16/2017   \n",
       "3  Wed 19 Apr 2017 Aleppo bomb blast kills six Sy...    nna  4/19/2017   \n",
       "4  Sun 10 Jul 2016 29 Syria Rebels Dead in Fighti...    nna  7/10/2016   \n",
       "\n",
       "  location  labels  year  \n",
       "0    idlib       0  2017  \n",
       "1     homs       0  2017  \n",
       "2   aleppo       0  2017  \n",
       "3   aleppo       0  2017  \n",
       "4   aleppo       0  2016  "
      ]
     },
     "execution_count": 9,
     "metadata": {},
     "output_type": "execute_result"
    }
   ],
   "source": [
    "pd.to_datetime(df['date'])\n",
    "df['year']=pd.DatetimeIndex(df['date']).year\n",
    "df.head()"
   ]
  },
  {
   "cell_type": "code",
   "execution_count": 10,
   "id": "99554320",
   "metadata": {},
   "outputs": [
    {
     "name": "stdout",
     "output_type": "stream",
     "text": [
      "<class 'pandas.core.frame.DataFrame'>\n",
      "RangeIndex: 804 entries, 0 to 803\n",
      "Data columns (total 8 columns):\n",
      " #   Column           Non-Null Count  Dtype \n",
      "---  ------           --------------  ----- \n",
      " 0   unit_id          804 non-null    int64 \n",
      " 1   article_title    804 non-null    object\n",
      " 2   article_content  804 non-null    object\n",
      " 3   source           804 non-null    object\n",
      " 4   date             804 non-null    object\n",
      " 5   location         804 non-null    object\n",
      " 6   labels           804 non-null    int64 \n",
      " 7   year             804 non-null    int64 \n",
      "dtypes: int64(3), object(5)\n",
      "memory usage: 50.4+ KB\n"
     ]
    }
   ],
   "source": [
    "df.info()"
   ]
  },
  {
   "cell_type": "code",
   "execution_count": 11,
   "id": "2e4dfd48",
   "metadata": {},
   "outputs": [
    {
     "data": {
      "text/plain": [
       "0      57\n",
       "1      76\n",
       "2      47\n",
       "3      43\n",
       "4      52\n",
       "       ..\n",
       "799    47\n",
       "800    47\n",
       "801    49\n",
       "802    55\n",
       "803    50\n",
       "Name: article_title_length, Length: 804, dtype: int64"
      ]
     },
     "execution_count": 11,
     "metadata": {},
     "output_type": "execute_result"
    }
   ],
   "source": [
    "df['article_title_length']=df['article_title'].apply(len)\n",
    "df['article_title_length']"
   ]
  },
  {
   "cell_type": "markdown",
   "id": "c47db67c",
   "metadata": {},
   "source": [
    "# 3 Exploratory Data Analysis\n",
    "## Lets Find out in which most fake news were released.\n"
   ]
  },
  {
   "cell_type": "code",
   "execution_count": 12,
   "id": "f88c04a6",
   "metadata": {},
   "outputs": [
    {
     "name": "stdout",
     "output_type": "stream",
     "text": [
      "Dataset from year 2011 to 2018\n"
     ]
    }
   ],
   "source": [
    "print(\"Dataset from year\",df.year.min() ,\"to\", df.year.max())"
   ]
  },
  {
   "cell_type": "code",
   "execution_count": 13,
   "id": "f1397f6f",
   "metadata": {},
   "outputs": [
    {
     "data": {
      "text/plain": [
       "Text(0, 0.5, 'Number of data in Dataset')"
      ]
     },
     "execution_count": 13,
     "metadata": {},
     "output_type": "execute_result"
    },
    {
     "data": {
      "image/png": "[encoded data removed]",
      "text/plain": [
       "<Figure size 1200x600 with 1 Axes>"
      ]
     },
     "metadata": {},
     "output_type": "display_data"
    }
   ],
   "source": [
    "import matplotlib\n",
    "matplotlib.rcParams['figure.figsize']=(12,6)\n",
    "\n",
    "mtp.hist(df.labels,color='green')\n",
    "mtp.xlabel('Real or Fake')\n",
    "mtp.ylabel('Number of data in Dataset')"
   ]
  },
  {
   "cell_type": "markdown",
   "id": "0f92ca62",
   "metadata": {},
   "source": [
    "                        As per the above output, the dataset contains 426 real news where as 378 fake news data"
   ]
  },
  {
   "cell_type": "code",
   "execution_count": 14,
   "id": "9767b592",
   "metadata": {},
   "outputs": [
    {
     "data": {
      "text/plain": [
       "<AxesSubplot:xlabel='source', ylabel='count'>"
      ]
     },
     "execution_count": 14,
     "metadata": {},
     "output_type": "execute_result"
    },
    {
     "data": {
      "image/png": "[encoded data removed]",
      "text/plain": [
       "<Figure size 1600x1200 with 1 Axes>"
      ]
     },
     "metadata": {},
     "output_type": "display_data"
    }
   ],
   "source": [
    "matplotlib.rcParams['figure.figsize']=(16,12)\n",
    "sns.countplot(x=df.source,hue=df.labels)"
   ]
  },
  {
   "cell_type": "markdown",
   "id": "6de1f7d0",
   "metadata": {},
   "source": [
    "The sources named as 'nna', 'ahram',, tass source', 'sana','etllaf', 'arabia'and 'reuters' has given more number of fake news than the real news."
   ]
  },
  {
   "cell_type": "code",
   "execution_count": 15,
   "id": "bd22229e",
   "metadata": {},
   "outputs": [
    {
     "name": "stdout",
     "output_type": "stream",
     "text": [
      "Number of fake Articles: 426\n",
      "Number of real Articles: 378\n"
     ]
    }
   ],
   "source": [
    "print(\"Number of fake Articles:\", len(df.loc[df['labels'] == 1]))\n",
    "print(\"Number of real Articles:\", len(df.loc[df['labels'] == 0]))\n",
    "fake_df=df.loc[df.labels==0]\n",
    "real_df=df.loc[df.labels==1]"
   ]
  },
  {
   "cell_type": "code",
   "execution_count": 16,
   "id": "d501049b",
   "metadata": {},
   "outputs": [
    {
     "data": {
      "image/png": "[encoded data removed]",
      "text/plain": [
       "<Figure size 1600x1200 with 1 Axes>"
      ]
     },
     "metadata": {},
     "output_type": "display_data"
    }
   ],
   "source": [
    "sns.countplot(x=df.source,hue=df.year,data =df);"
   ]
  },
  {
   "cell_type": "markdown",
   "id": "9fc816b8",
   "metadata": {},
   "source": [
    "The above graph shows the year wise number of news released by the various sources. One thing that can also be infered out of the graph is that the maximum number of news were released in 2016, by the various sources"
   ]
  },
  {
   "cell_type": "code",
   "execution_count": 17,
   "id": "f7210316",
   "metadata": {},
   "outputs": [
    {
     "data": {
      "image/png": "[encoded data removed]",
      "text/plain": [
       "<Figure size 1600x1200 with 1 Axes>"
      ]
     },
     "metadata": {},
     "output_type": "display_data"
    }
   ],
   "source": [
    "sns.boxplot(y='article_title_length',x='year',data=df);"
   ]
  },
  {
   "cell_type": "code",
   "execution_count": 18,
   "id": "2f72e291",
   "metadata": {},
   "outputs": [
    {
     "data": {
      "image/png": "[encoded data removed]",
      "text/plain": [
       "<Figure size 1400x500 with 2 Axes>"
      ]
     },
     "metadata": {},
     "output_type": "display_data"
    }
   ],
   "source": [
    "figure, axis = mtp.subplots(1,2,figsize=(14,5))\n",
    "sns.barplot(ax=axis[0],y='article_title_length',x='year',data=real_df);\n",
    "sns.barplot(ax=axis[1],y='article_title_length',x='year',data=fake_df);\n",
    "mtp.show()"
   ]
  },
  {
   "cell_type": "markdown",
   "id": "a70d688e",
   "metadata": {},
   "source": [
    "# 4. Split the Data"
   ]
  },
  {
   "cell_type": "code",
   "execution_count": 43,
   "id": "a8827f24",
   "metadata": {},
   "outputs": [],
   "source": [
    "from sklearn.feature_extraction.text import CountVectorizer\n",
    "x=np.array(df['article_title'])\n",
    "x.reshape(-1, 1)\n",
    "y=np.array(df['labels'])\n",
    "\n",
    "cv = CountVectorizer()\n",
    "x = cv.fit_transform(x)\n"
   ]
  },
  {
   "cell_type": "code",
   "execution_count": 44,
   "id": "c64b933e",
   "metadata": {},
   "outputs": [],
   "source": [
    "from sklearn.model_selection import train_test_split\n",
    "train_data,test_data,train_label,test_label=train_test_split(x,y,test_size=0.3,random_state=42)\n",
    "# splitting data into train and test data 70%-30%"
   ]
  },
  {
   "cell_type": "markdown",
   "id": "e32fa031",
   "metadata": {},
   "source": [
    "### Use the Multinomial Naive Bayes algorithm to train the fake news detection model"
   ]
  },
  {
   "cell_type": "code",
   "execution_count": 46,
   "id": "6d09719d",
   "metadata": {},
   "outputs": [
    {
     "name": "stdout",
     "output_type": "stream",
     "text": [
      "0.8380782918149466\n"
     ]
    }
   ],
   "source": [
    "from sklearn.naive_bayes import MultinomialNB\n",
    "model= MultinomialNB()\n",
    "model.fit(train_data,train_label)\n",
    "print(model.score(train_data, train_label))"
   ]
  },
  {
   "cell_type": "code",
   "execution_count": 47,
   "id": "e166e348",
   "metadata": {},
   "outputs": [
    {
     "name": "stdout",
     "output_type": "stream",
     "text": [
      "[0]\n"
     ]
    }
   ],
   "source": [
    "news_headline = \"CA Exams 2021: Supreme Court asks ICAI to extend opt-out option for July exams, final order tomorrow\"\n",
    "data = cv.transform([news_headline]).toarray()\n",
    "print(model.predict(data))"
   ]
  },
  {
   "cell_type": "code",
   "execution_count": 48,
   "id": "ac593682",
   "metadata": {},
   "outputs": [
    {
     "name": "stdout",
     "output_type": "stream",
     "text": [
      "[1]\n"
     ]
    }
   ],
   "source": [
    "news_headline = \"Cow dung can cure Corona Virus\"\n",
    "data = cv.transform([news_headline]).toarray()\n",
    "print(model.predict(data))"
   ]
  },
  {
   "cell_type": "markdown",
   "id": "1a08130b",
   "metadata": {},
   "source": [
    "### 0 -> Real || 1 -> Fake "
   ]
  },
  {
   "cell_type": "code",
   "execution_count": null,
   "id": "c1a7f385",
   "metadata": {},
   "outputs": [],
   "source": []
  }
 ],
 "metadata": {
  "kernelspec": {
   "display_name": "Python 3 (ipykernel)",
   "language": "python",
   "name": "python3"
  },
  "language_info": {
   "codemirror_mode": {
    "name": "ipython",
    "version": 3
   },
   "file_extension": ".py",
   "mimetype": "text/x-python",
   "name": "python",
   "nbconvert_exporter": "python",
   "pygments_lexer": "ipython3",
   "version": "3.9.13"
  }
 },
 "nbformat": 4,
 "nbformat_minor": 5
}
