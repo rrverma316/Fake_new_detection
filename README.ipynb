# Fake_new_detection
Machine Learning Project on Fake New Detection. Here we see how much fake news is publised evey day. 
Fake news is one of the biggest problems with online social media and even some news sites. Most of the time, we see a lot of fake news about politics. So using machine learning for fake news detection is a very challenging task. If you want to learn how to detect fake news using machine learning, this article is for you. In this article, I will walk you through the task of Fake News Detection with Machine Learning using Python.
