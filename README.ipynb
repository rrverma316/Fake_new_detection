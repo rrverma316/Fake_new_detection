# Fake_new_detection
Machine Learning Project on Fake New Detection. Here we see how much fake news is publised evey day. 
# Fake News Detection

### Alert! Did you know that your morning start with fake news. Yes, as per my survey I found that more then 50% of fake new viral in every year. 

# What is fake news?
## As per google defination -"false information that is broadcast or published as news for fraudulent or politically motivated purposes"
### Fake news's simple meaning is to incorporate information that leads people to the wrong path. Nowadays fake news spreading like water and people share this information without verifying it. This is often done to further or impose certain ideas and is often achieved with political agendas.

### For media outlets, the ability to attract viewers to their websites is necessary to generate online advertising revenue. So it is necessary to detect fake news.


# Workflow~

# 1 Insert DataSet

import pandas as pd
import matplotlib.pyplot as mtp
import seaborn as sns
import numpy as np

%matplotlib inline


I found that datasets for fake news detection on Kaggle. There are two datasets one for fake news and one for true news. In true news, there is 426 news, and in fake news, there is 378 news. Both datasets have a label column in which 1 for fake news and 0 for true news. We are combined both datasets using pandas built-in function.

df=pd.read_csv('FA-KES-Dataset.csv',encoding='unicode_escape' )

df.head()

df.shape

df

df.isnull().sum()

sns.heatmap(df.isnull(),yticklabels=False,cbar=False)

 # 2 Date Pre processing

pd.to_datetime(df['date'])
df['year']=pd.DatetimeIndex(df['date']).year
df.head()

df.info()

df['article_title_length']=df['article_title'].apply(len)
df['article_title_length']

# 3 Exploratory Data Analysis
## Lets Find out in which most fake news were released.


print("Dataset from year",df.year.min() ,"to", df.year.max())

import matplotlib
matplotlib.rcParams['figure.figsize']=(12,6)

mtp.hist(df.labels,color='green')
mtp.xlabel('Real or Fake')
mtp.ylabel('Number of data in Dataset')

                        As per the above output, the dataset contains 426 real news where as 378 fake news data

matplotlib.rcParams['figure.figsize']=(16,12)
sns.countplot(x=df.source,hue=df.labels)

The sources named as 'nna', 'ahram',, tass source', 'sana','etllaf', 'arabia'and 'reuters' has given more number of fake news than the real news.

print("Number of fake Articles:", len(df.loc[df['labels'] == 1]))
print("Number of real Articles:", len(df.loc[df['labels'] == 0]))
fake_df=df.loc[df.labels==0]
real_df=df.loc[df.labels==1]

sns.countplot(x=df.source,hue=df.year,data =df);

The above graph shows the year wise number of news released by the various sources. One thing that can also be infered out of the graph is that the maximum number of news were released in 2016, by the various sources

sns.boxplot(y='article_title_length',x='year',data=df);

figure, axis = mtp.subplots(1,2,figsize=(14,5))
sns.barplot(ax=axis[0],y='article_title_length',x='year',data=real_df);
sns.barplot(ax=axis[1],y='article_title_length',x='year',data=fake_df);
mtp.show()

# 4. Split the Data

from sklearn.feature_extraction.text import CountVectorizer
x=np.array(df['article_title'])
x.reshape(-1, 1)
y=np.array(df['labels'])

cv = CountVectorizer()
x = cv.fit_transform(x)


from sklearn.model_selection import train_test_split
train_data,test_data,train_label,test_label=train_test_split(x,y,test_size=0.3,random_state=42)
# splitting data into train and test data 70%-30%

### Use the Multinomial Naive Bayes algorithm to train the fake news detection model

from sklearn.naive_bayes import MultinomialNB
model= MultinomialNB()
model.fit(train_data,train_label)
print(model.score(train_data, train_label))

news_headline = "CA Exams 2021: Supreme Court asks ICAI to extend opt-out option for July exams, final order tomorrow"
data = cv.transform([news_headline]).toarray()
print(model.predict(data))

news_headline = "Cow dung can cure Corona Virus"
data = cv.transform([news_headline]).toarray()
print(model.predict(data))

### 0 -> Real || 1 -> Fake 

